{
 "cells": [
  {
   "cell_type": "code",
   "execution_count": 1,
   "metadata": {},
   "outputs": [],
   "source": [
    "import numpy as np\n",
    "import pandas as pd\n",
    "from matplotlib import pyplot as plt\n",
    "import seaborn as sns"
   ]
  },
  {
   "cell_type": "code",
   "execution_count": 2,
   "metadata": {},
   "outputs": [],
   "source": [
    "#chargement des données\n",
    "artists = pd.read_csv('/home/michel/Documents/développement/python/SSRS/artists.csv')\n",
    "tracks = pd.read_csv('/home/michel/Documents/développement/python/SSRS/tracks.csv')"
   ]
  },
  {
   "cell_type": "markdown",
   "metadata": {},
   "source": [
    "# Preprocessing générique"
   ]
  },
  {
   "cell_type": "markdown",
   "metadata": {},
   "source": [
    "## Feature-engineering et filtration des données"
   ]
  },
  {
   "cell_type": "code",
   "execution_count": 3,
   "metadata": {},
   "outputs": [],
   "source": [
    "#copie des données\n",
    "artists_df = artists.copy()\n",
    "tracks_df = tracks.copy()"
   ]
  },
  {
   "cell_type": "code",
   "execution_count": 4,
   "metadata": {},
   "outputs": [],
   "source": [
    "#suppression des variables inutiles (identifiants)\n",
    "tracks_df = tracks_df.drop(['id','id_artists'], axis=1)\n",
    "artists_df = artists_df.drop('id', axis=1)\n",
    "\n",
    "#suppression des fausses variables continues\n",
    "tracks_df = tracks_df.drop(['mode','time_signature', 'key'], axis=1)"
   ]
  },
  {
   "cell_type": "code",
   "execution_count": 5,
   "metadata": {},
   "outputs": [],
   "source": [
    "#transformation des dates de sortie en années\n",
    "tracks_df['release_date'] = tracks_df['release_date'].str.extract(r'(\\d{4})')\n",
    "tracks_df['release_date'] = tracks_df['release_date'].astype('int64')"
   ]
  },
  {
   "cell_type": "code",
   "execution_count": 6,
   "metadata": {},
   "outputs": [],
   "source": [
    "#suppression des artistes sans information de genre musical\n",
    "artists_df = artists_df[artists_df['genres'] != '[]']\n",
    "\n",
    "#suppression des morceaux antérieurs à la médiane des dates de sortie pour réduire la taille du dataset\n",
    "tracks_df = tracks_df[tracks_df['release_date'] >= 1992]"
   ]
  },
  {
   "cell_type": "code",
   "execution_count": 7,
   "metadata": {},
   "outputs": [],
   "source": [
    "#formatage des artistes et des genres en listes\n",
    "tracks_df['artists'] = tracks_df['artists'].apply(eval)\n",
    "artists_df['genres'] = artists_df['genres'].apply(eval)"
   ]
  },
  {
   "cell_type": "code",
   "execution_count": 8,
   "metadata": {},
   "outputs": [],
   "source": [
    "#suppression des artistes en double\n",
    "artists_df = artists_df.drop_duplicates('name', keep=False)"
   ]
  },
  {
   "cell_type": "code",
   "execution_count": 9,
   "metadata": {},
   "outputs": [],
   "source": [
    "#suppression des artistes sans morceaux rattachés\n",
    "import itertools\n",
    "\n",
    "song_artists = list(set(itertools.chain.from_iterable(tracks_df['artists'])))\n",
    "artists_df = artists_df[artists_df['name'].isin(song_artists)]"
   ]
  },
  {
   "cell_type": "code",
   "execution_count": 10,
   "metadata": {},
   "outputs": [],
   "source": [
    "#suppression des morceaux sans artistes rattachés (2min d'exécution)\n",
    "\n",
    "all_artists = artists_df['name'].unique().tolist()\n",
    "\n",
    "tracks_df['artists_exist'] = tracks_df['artists'].map(lambda x: all(item in all_artists for item in x))\n",
    "tracks_df = tracks_df[tracks_df['artists_exist'] == True]\n",
    "tracks_df = tracks_df.drop('artists_exist', axis=1)"
   ]
  },
  {
   "cell_type": "markdown",
   "metadata": {},
   "source": [
    "**Tableau des artistes** : on passe de 1 104 349 individus à 45 701 et de 5 variables à 4  \n",
    "**Tableau des morceaux** : on passe de 686 672 individus à 250 555 individus et de 20 variables à 15"
   ]
  },
  {
   "cell_type": "markdown",
   "metadata": {},
   "source": [
    "# Preprocessing requête-spécifique"
   ]
  },
  {
   "cell_type": "markdown",
   "metadata": {},
   "source": [
    "## Feature-engineering et filtration des données"
   ]
  },
  {
   "cell_type": "code",
   "execution_count": 11,
   "metadata": {},
   "outputs": [],
   "source": [
    "#fonction renvoyant la liste des genres correspondant à un artiste donné\n",
    "\n",
    "def get_genres(artists_df, artists:list):\n",
    "    \n",
    "    genres = []\n",
    "    for artist in artists :\n",
    "        genres = list(set(genres + artists_df[artists_df['name']==artist].iloc[0,1]))\n",
    "    \n",
    "    return genres"
   ]
  },
  {
   "cell_type": "code",
   "execution_count": 12,
   "metadata": {},
   "outputs": [],
   "source": [
    "#fonction réduisant le tableau des morceaux à ceux des artistes similaires\n",
    "\n",
    "def similar_artists_songs(tracks_df, artists_df, artists:list):\n",
    "    \n",
    "    ref_genres = get_genres(artists_df, artists)\n",
    "\n",
    "    df1 = artists_df.copy()\n",
    "    df2 = tracks_df.copy()\n",
    "    \n",
    "    df1['similar'] = artists_df['genres'].map(lambda x: any(item in ref_genres for item in x))\n",
    "    df1 = df1[df1['similar'] == True]\n",
    "    \n",
    "    similar_artists = df1['name'].unique().tolist() \n",
    "    \n",
    "    df2['similar'] = tracks_df['artists'].map(lambda x: any(item in similar_artists for item in x))\n",
    "    df2 = df2[df2['similar'] == True]\n",
    "    df2 = df2.drop('similar', axis=1)\n",
    "    \n",
    "    return df2"
   ]
  },
  {
   "cell_type": "code",
   "execution_count": 13,
   "metadata": {},
   "outputs": [],
   "source": [
    "#fonction calculant l'indice de jaccard entre deux listes de genres musicaux\n",
    "\n",
    "def jaccard_index(ref_list, other_list):\n",
    "    \n",
    "    union_list = list(set(ref_list + other_list))\n",
    "    inter_list = list(set(union_list) - (set(ref_list) - set(other_list)) - (set(other_list) - set(ref_list)))\n",
    "    \n",
    "    return len(inter_list)/len(union_list)"
   ]
  },
  {
   "cell_type": "code",
   "execution_count": 14,
   "metadata": {},
   "outputs": [],
   "source": [
    "#fonction ajoutant l'indice de Jaccard pour chaque morceau par rapport à un artiste de référence\n",
    "\n",
    "def add_jaccard(selected_tracks_df, artists_df, main_artists=list):\n",
    "    \n",
    "    ref_genres = get_genres(artists_df, main_artists)\n",
    "    df = selected_tracks_df.copy()\n",
    "    df['jaccard_index'] = selected_tracks_df['artists'].map(lambda x: jaccard_index(ref_genres, get_genres(artists_df, x)))\n",
    "    \n",
    "    return df"
   ]
  },
  {
   "cell_type": "markdown",
   "metadata": {},
   "source": [
    "## Normalisation des variables"
   ]
  },
  {
   "cell_type": "code",
   "execution_count": 15,
   "metadata": {},
   "outputs": [],
   "source": [
    "#normalisation standard (retrait de la moyenne et variance unitaire) des données quantitatives\n",
    "\n",
    "from sklearn.preprocessing import StandardScaler\n",
    "\n",
    "def scale(selected_tracks_df):\n",
    "    \n",
    "    df_qual = selected_tracks_df.select_dtypes(include='object')\n",
    "    df_quant = selected_tracks_df.select_dtypes(exclude='object')\n",
    "    \n",
    "    scaler = StandardScaler()\n",
    "    scaler.fit(df_quant)\n",
    "    df_quant = pd.DataFrame(scaler.transform(df_quant), index=df_quant.index, columns=df_quant.columns)\n",
    "    \n",
    "    return pd.concat([df_qual, df_quant], axis=1)"
   ]
  },
  {
   "cell_type": "markdown",
   "metadata": {},
   "source": [
    "## Calcul de distance"
   ]
  },
  {
   "cell_type": "code",
   "execution_count": 16,
   "metadata": {},
   "outputs": [],
   "source": [
    "#fonction calculant la distance euclidienne entre deux lignes\n",
    "\n",
    "from scipy.spatial import distance\n",
    "\n",
    "def add_distance(scaled_selected_tracks_df, ref_track_df):\n",
    "    \n",
    "    return distance.cdist(scaled_selected_tracks_df.values, ref_track_df.values, 'euclidean')"
   ]
  },
  {
   "cell_type": "markdown",
   "metadata": {},
   "source": [
    "## Récapitulation des étapes"
   ]
  },
  {
   "cell_type": "code",
   "execution_count": 17,
   "metadata": {},
   "outputs": [],
   "source": [
    "#fonction renvoyant un dataframe contenant les morceaux les plus semblables à un morceau donné\n",
    "\n",
    "def ssrs(tracks_df, artists_df, track_name:str, artists:list):\n",
    "    \n",
    "    df = similar_artists_songs(tracks_df, artists_df, artists)\n",
    "    df = add_jaccard(df, artists_df, artists)\n",
    "    df = scale(df)\n",
    "    \n",
    "    df_all = df.select_dtypes(exclude='object')\n",
    "    \n",
    "    #caractéristiques du morceau de référence\n",
    "    df_ref = df[df['name'].apply(lambda x: x == track_name)]\n",
    "    df_ref = df_ref[df_ref['artists'].apply(lambda x: x == artists)]\n",
    "    df_ref = df_ref.sort_values(by='release_date').head(1) #choix du morceau le plus ancien en cas de morceaux portant le même nom\n",
    "    df_ref = df_ref.select_dtypes(exclude='object')\n",
    "    \n",
    "    df['distance'] = add_distance(df_all, df_ref)\n",
    "    df = df[df['name'].str.contains(track_name) == False] #élimination du morceau de référence dans les résultats\n",
    "    df['artists'] = df['artists'].astype(str)\n",
    "    df = df.sort_values(by='distance')\n",
    "    df = df.groupby('artists').first() #choix du meilleur morceau pour chaque artiste\n",
    "    df = df.sort_values(by='distance')\n",
    "    \n",
    "    return df"
   ]
  },
  {
   "cell_type": "code",
   "execution_count": 18,
   "metadata": {},
   "outputs": [],
   "source": [
    "#fonction renvoyant les k meilleurs morceaux du dataframe renvoyé par la fonction précédente\n",
    "\n",
    "def print_k_best(df, k):\n",
    "    print('Les {} morceaux les plus similaires que je connais sont :\\n'.format(k))\n",
    "    for i in range(k):\n",
    "        print(\"'{}' par {}\\n\".format(df.iloc[i,0], df.index[i]))"
   ]
  },
  {
   "cell_type": "code",
   "execution_count": 19,
   "metadata": {},
   "outputs": [],
   "source": [
    "#fonction renvoyant un dataframe contenant les morceaux associés à un artiste donné\n",
    "\n",
    "def check_artist(tracks_df, artist:str):\n",
    "    return tracks_df[tracks_df['artists'].apply(lambda x: any(item == artist for item in x))]"
   ]
  },
  {
   "cell_type": "markdown",
   "metadata": {},
   "source": [
    "# Tests"
   ]
  },
  {
   "cell_type": "code",
   "execution_count": 20,
   "metadata": {},
   "outputs": [],
   "source": [
    "df = ssrs(tracks_df, artists_df, \"Wonderwall\", ['Oasis'])"
   ]
  },
  {
   "cell_type": "code",
   "execution_count": 21,
   "metadata": {},
   "outputs": [
    {
     "name": "stdout",
     "output_type": "stream",
     "text": [
      "Les 10 morceaux les plus similaires que je connais sont :\n",
      "\n",
      "'Don't Look Back in Anger - Remastered' par ['Oasis']\n",
      "\n",
      "'Let Me Kiss You' par ['Morrissey']\n",
      "\n",
      "'Country House - 2012 Remaster' par ['Blur']\n",
      "\n",
      "'The Bitter End' par ['Placebo']\n",
      "\n",
      "'Getting Away With It (All Messed Up)' par ['James']\n",
      "\n",
      "'Bitter Sweet Symphony' par ['The Verve']\n",
      "\n",
      "'Just Lookin'' par ['The Charlatans']\n",
      "\n",
      "'Beautiful Day' par ['U2']\n",
      "\n",
      "'Plug in Baby' par ['Muse']\n",
      "\n",
      "'Blinded By The Sun' par ['The Seahorses']\n",
      "\n"
     ]
    }
   ],
   "source": [
    "print_k_best(df, 10)"
   ]
  },
  {
   "cell_type": "code",
   "execution_count": 22,
   "metadata": {},
   "outputs": [
    {
     "data": {
      "text/html": [
       "<div>\n",
       "<style scoped>\n",
       "    .dataframe tbody tr th:only-of-type {\n",
       "        vertical-align: middle;\n",
       "    }\n",
       "\n",
       "    .dataframe tbody tr th {\n",
       "        vertical-align: top;\n",
       "    }\n",
       "\n",
       "    .dataframe thead th {\n",
       "        text-align: right;\n",
       "    }\n",
       "</style>\n",
       "<table border=\"1\" class=\"dataframe\">\n",
       "  <thead>\n",
       "    <tr style=\"text-align: right;\">\n",
       "      <th></th>\n",
       "      <th>name</th>\n",
       "      <th>popularity</th>\n",
       "      <th>duration_ms</th>\n",
       "      <th>explicit</th>\n",
       "      <th>artists</th>\n",
       "      <th>release_date</th>\n",
       "      <th>danceability</th>\n",
       "      <th>energy</th>\n",
       "      <th>loudness</th>\n",
       "      <th>speechiness</th>\n",
       "      <th>acousticness</th>\n",
       "      <th>instrumentalness</th>\n",
       "      <th>liveness</th>\n",
       "      <th>valence</th>\n",
       "      <th>tempo</th>\n",
       "    </tr>\n",
       "  </thead>\n",
       "  <tbody>\n",
       "    <tr>\n",
       "      <th>381203</th>\n",
       "      <td>Attendez-moi</td>\n",
       "      <td>57</td>\n",
       "      <td>240813</td>\n",
       "      <td>0</td>\n",
       "      <td>[Guizmo]</td>\n",
       "      <td>2016</td>\n",
       "      <td>0.535</td>\n",
       "      <td>0.535</td>\n",
       "      <td>-9.997</td>\n",
       "      <td>0.327</td>\n",
       "      <td>0.3020</td>\n",
       "      <td>0.0</td>\n",
       "      <td>0.1480</td>\n",
       "      <td>0.190</td>\n",
       "      <td>97.494</td>\n",
       "    </tr>\n",
       "    <tr>\n",
       "      <th>462235</th>\n",
       "      <td>C'est tout</td>\n",
       "      <td>44</td>\n",
       "      <td>451632</td>\n",
       "      <td>0</td>\n",
       "      <td>[Guizmo]</td>\n",
       "      <td>2012</td>\n",
       "      <td>0.597</td>\n",
       "      <td>0.825</td>\n",
       "      <td>-7.646</td>\n",
       "      <td>0.384</td>\n",
       "      <td>0.4720</td>\n",
       "      <td>0.0</td>\n",
       "      <td>0.0998</td>\n",
       "      <td>0.535</td>\n",
       "      <td>98.775</td>\n",
       "    </tr>\n",
       "    <tr>\n",
       "      <th>462307</th>\n",
       "      <td>T'es juste ma pote</td>\n",
       "      <td>38</td>\n",
       "      <td>197733</td>\n",
       "      <td>1</td>\n",
       "      <td>[Guizmo]</td>\n",
       "      <td>2012</td>\n",
       "      <td>0.680</td>\n",
       "      <td>0.718</td>\n",
       "      <td>-4.561</td>\n",
       "      <td>0.203</td>\n",
       "      <td>0.3950</td>\n",
       "      <td>0.0</td>\n",
       "      <td>0.0776</td>\n",
       "      <td>0.389</td>\n",
       "      <td>95.730</td>\n",
       "    </tr>\n",
       "    <tr>\n",
       "      <th>462583</th>\n",
       "      <td>Dans 10 ans</td>\n",
       "      <td>45</td>\n",
       "      <td>235893</td>\n",
       "      <td>0</td>\n",
       "      <td>[Guizmo]</td>\n",
       "      <td>2014</td>\n",
       "      <td>0.428</td>\n",
       "      <td>0.872</td>\n",
       "      <td>-4.040</td>\n",
       "      <td>0.395</td>\n",
       "      <td>0.0343</td>\n",
       "      <td>0.0</td>\n",
       "      <td>0.0797</td>\n",
       "      <td>0.439</td>\n",
       "      <td>91.880</td>\n",
       "    </tr>\n",
       "    <tr>\n",
       "      <th>462616</th>\n",
       "      <td>André</td>\n",
       "      <td>44</td>\n",
       "      <td>464986</td>\n",
       "      <td>0</td>\n",
       "      <td>[Guizmo]</td>\n",
       "      <td>2014</td>\n",
       "      <td>0.523</td>\n",
       "      <td>0.844</td>\n",
       "      <td>-4.879</td>\n",
       "      <td>0.377</td>\n",
       "      <td>0.3340</td>\n",
       "      <td>0.0</td>\n",
       "      <td>0.6370</td>\n",
       "      <td>0.846</td>\n",
       "      <td>90.291</td>\n",
       "    </tr>\n",
       "    <tr>\n",
       "      <th>463109</th>\n",
       "      <td>GPG 2</td>\n",
       "      <td>45</td>\n",
       "      <td>164560</td>\n",
       "      <td>0</td>\n",
       "      <td>[Guizmo]</td>\n",
       "      <td>2016</td>\n",
       "      <td>0.524</td>\n",
       "      <td>0.578</td>\n",
       "      <td>-7.419</td>\n",
       "      <td>0.193</td>\n",
       "      <td>0.3550</td>\n",
       "      <td>0.0</td>\n",
       "      <td>0.1090</td>\n",
       "      <td>0.140</td>\n",
       "      <td>132.338</td>\n",
       "    </tr>\n",
       "  </tbody>\n",
       "</table>\n",
       "</div>"
      ],
      "text/plain": [
       "                      name  popularity  duration_ms  explicit   artists  \\\n",
       "381203        Attendez-moi          57       240813         0  [Guizmo]   \n",
       "462235          C'est tout          44       451632         0  [Guizmo]   \n",
       "462307  T'es juste ma pote          38       197733         1  [Guizmo]   \n",
       "462583         Dans 10 ans          45       235893         0  [Guizmo]   \n",
       "462616               André          44       464986         0  [Guizmo]   \n",
       "463109               GPG 2          45       164560         0  [Guizmo]   \n",
       "\n",
       "        release_date  danceability  energy  loudness  speechiness  \\\n",
       "381203          2016         0.535   0.535    -9.997        0.327   \n",
       "462235          2012         0.597   0.825    -7.646        0.384   \n",
       "462307          2012         0.680   0.718    -4.561        0.203   \n",
       "462583          2014         0.428   0.872    -4.040        0.395   \n",
       "462616          2014         0.523   0.844    -4.879        0.377   \n",
       "463109          2016         0.524   0.578    -7.419        0.193   \n",
       "\n",
       "        acousticness  instrumentalness  liveness  valence    tempo  \n",
       "381203        0.3020               0.0    0.1480    0.190   97.494  \n",
       "462235        0.4720               0.0    0.0998    0.535   98.775  \n",
       "462307        0.3950               0.0    0.0776    0.389   95.730  \n",
       "462583        0.0343               0.0    0.0797    0.439   91.880  \n",
       "462616        0.3340               0.0    0.6370    0.846   90.291  \n",
       "463109        0.3550               0.0    0.1090    0.140  132.338  "
      ]
     },
     "execution_count": 22,
     "metadata": {},
     "output_type": "execute_result"
    }
   ],
   "source": [
    "check_artist(tracks_df, \"Guizmo\")"
   ]
  },
  {
   "cell_type": "code",
   "execution_count": 23,
   "metadata": {},
   "outputs": [],
   "source": [
    "df2 = ssrs(tracks_df, artists_df, \"Attendez-moi\", ['Guizmo'])"
   ]
  },
  {
   "cell_type": "code",
   "execution_count": 24,
   "metadata": {},
   "outputs": [
    {
     "name": "stdout",
     "output_type": "stream",
     "text": [
      "Les 5 morceaux les plus similaires que je connais sont :\n",
      "\n",
      "'GPG 2' par ['Guizmo']\n",
      "\n",
      "'À deux pas' par ['Alpha Wann', 'Nekfeu']\n",
      "\n",
      "'Plus Tony que Sosa' par ['PNL']\n",
      "\n",
      "'Si j'arrêtais' par ['Vald']\n",
      "\n",
      "'Alors Dites Pas' par ['Hugo TSR']\n",
      "\n"
     ]
    }
   ],
   "source": [
    "print_k_best(df2, 5)"
   ]
  }
 ],
 "metadata": {
  "kernelspec": {
   "display_name": "Python 3",
   "language": "python",
   "name": "python3"
  },
  "language_info": {
   "codemirror_mode": {
    "name": "ipython",
    "version": 3
   },
   "file_extension": ".py",
   "mimetype": "text/x-python",
   "name": "python",
   "nbconvert_exporter": "python",
   "pygments_lexer": "ipython3",
   "version": "3.6.5"
  }
 },
 "nbformat": 4,
 "nbformat_minor": 2
}
